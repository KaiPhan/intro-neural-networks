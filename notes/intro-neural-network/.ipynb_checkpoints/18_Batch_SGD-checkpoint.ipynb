{
 "cells": [
  {
   "cell_type": "markdown",
   "metadata": {},
   "source": [
    "## Gradient Descent vs Batch Gradient Descent vs Stochastic Gradient Descent "
   ]
  },
  {
   "cell_type": "markdown",
   "metadata": {},
   "source": [
    "|                        | Gradient Descent                                      | Batch Gradient Descent                               | Stochastic Gradient Descent                           |\n",
    "|------------------------|--------------------------------------------------------|------------------------------------------------------|------------------------------------------------------|\n",
    "| Description            | Computes the gradient of the loss function using the <span style=\"background-color: #FFFF99; color: #000000; font-weight: bold;\">entire</span> training dataset in each iteration.  The model parameters are updated using the gradient of the error function calculated on each point in the dataset, <span style=\"background-color: #FFFF99; color: #000000; font-weight: bold;\">one by one</span>. Performs many updates per epoch. | Computes the gradient of the loss function using a <span style=\"background-color: #FFFF99; color: #000000; font-weight: bold;\">subset</span> of the training dataset in each iteration.   The model parameters are updated using the gradient of the error function calculated on the <span style=\"background-color: #FFFF99; color: #000000; font-weight: bold;\">entire dataset at once</span>. Performs only one update per epoch. | Computes the gradient of the loss function using <span style=\"background-color: #FFFF99; color: #000000; font-weight: bold;\">a single training example or a small minibatch</span> in each iteration. It splits the data into smaller batches and updates the model parameters using each batch. |\n",
    "| Convergence            | Converges to the global minimum for convex functions and to a local minimum for non-convex functions. | Converges faster than gradient descent, but may oscillate around the minimum. | Converges faster than batch gradient descent, but may not settle at the minimum. |\n",
    "| Computation/Memory      | Requires <span style=\"background-color: #FFFF99; color: #000000; font-weight: bold;\">more</span> computation and memory, but is more accurate and stable. | Requires <span style=\"background-color: #FFFF99; color: #000000; font-weight: bold;\">less</span> computation and memory, but is less accurate and stable. | Requires <span style=\"background-color: #FFFF99; color: #000000; font-weight: bold;\">the least</span> computation and memory, but is the least accurate and stable. |\n",
    "| Vanishing Gradient      | Suffers from the vanishing gradient problem for deep networks. | Suffers from the vanishing gradient problem for deep networks. | Can escape local minima and find better solutions for non-convex functions. |\n"
   ]
  },
  {
   "cell_type": "code",
   "execution_count": null,
   "metadata": {},
   "outputs": [],
   "source": []
  }
 ],
 "metadata": {
  "kernelspec": {
   "display_name": "Python 3 (ipykernel)",
   "language": "python",
   "name": "python3"
  },
  "language_info": {
   "codemirror_mode": {
    "name": "ipython",
    "version": 3
   },
   "file_extension": ".py",
   "mimetype": "text/x-python",
   "name": "python",
   "nbconvert_exporter": "python",
   "pygments_lexer": "ipython3",
   "version": "3.6.13"
  }
 },
 "nbformat": 4,
 "nbformat_minor": 2
}
