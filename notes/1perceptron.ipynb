{
 "cells": [
  {
   "cell_type": "markdown",
   "metadata": {},
   "source": [
    "# Perceptron\n",
    "\n",
    "In a nutshell, a perceptron is a simple mathematical model of a biological neuron. It's the basic building block of artificial neural networks. The perceptron takes multiple binary inputs, applies weights to these inputs, sums them up, and then passes the result through an activation function to produce an output. The output is typically binary as well, representing a decision or classification.\n",
    "\n",
    "In a more formal sense:\n",
    "\n",
    "1. **Inputs (x):** The perceptron receives multiple binary inputs (0 or 1).\n",
    "2. **Weights (w) and bias (b):** Each input is multiplied by a weight, which can be adjusted during the learning process. Then plus bias\n",
    "3. **Summation:** The weighted inputs are summed up. This is *Linear function* on the picture.\n",
    "4. **Activation Function:** The sum is then passed through an activation function (e.g., step function, sigmoid) to produce the output. The activation function introduces non-linearity to the model. This is *Step Function* on the picture.\n",
    "5. **Output (y):** The final output is typically binary (0 or 1), representing the perceptron's decision.\n",
    "\n",
    "![Perceptron](images/perceptron1.png)\n",
    "\n",
    "[Watch the video about Perceptron URL](https://www.youtube.com/watch?v=hImSxZyRiOw)\n"
   ]
  },
  {
   "cell_type": "markdown",
   "metadata": {},
   "source": []
  }
 ],
 "metadata": {
  "kernelspec": {
   "display_name": "Python 3 (ipykernel)",
   "language": "python",
   "name": "python3"
  },
  "language_info": {
   "codemirror_mode": {
    "name": "ipython",
    "version": 3
   },
   "file_extension": ".py",
   "mimetype": "text/x-python",
   "name": "python",
   "nbconvert_exporter": "python",
   "pygments_lexer": "ipython3",
   "version": "3.11.5"
  }
 },
 "nbformat": 4,
 "nbformat_minor": 2
}
