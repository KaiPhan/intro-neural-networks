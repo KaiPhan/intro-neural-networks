{
 "cells": [
  {
   "cell_type": "markdown",
   "metadata": {},
   "source": [
    "# One-Hot Encoding\n",
    "\n",
    "[Watch the source Udacity video](https://www.youtube.com/watch?v=AePvjhyvsBo)\n",
    "\n",
    "<p align=\"center\"><img src=\"images/onehot1.png\" alt=\"One-hot encoding\" width=\"600\" />\n",
    "</p>\n",
    "\n",
    "In a nutshell, one-hot encoding is a method used in machine learning to represent categorical data, particularly for features or labels with distinct categories.\n",
    "\n",
    "- **Purpose:** representing categories as binary vectors.\n",
    "\n",
    "- **Advantages:**\n",
    "  - It prevents the model from assuming an ordinal relationship between categories that may not exist.\n",
    "  - It ensures that the categorical data is treated appropriately, especially in scenarios where numerical values may mislead the model.\n",
    "\n",
    "- **Common Usage:** One-hot encoding is frequently used in tasks involving categorical variables, such as encoding class labels in classification problems or converting nominal features into a format suitable for machine learning algorithms.\n",
    "\n",
    "- **Implementation:** Libraries like scikit-learn in Python provide functions (e.g., `OneHotEncoder`) \n",
    "\n"
   ]
  },
  {
   "cell_type": "markdown",
   "metadata": {},
   "source": []
  }
 ],
 "metadata": {
  "language_info": {
   "name": "python"
  }
 },
 "nbformat": 4,
 "nbformat_minor": 2
}
