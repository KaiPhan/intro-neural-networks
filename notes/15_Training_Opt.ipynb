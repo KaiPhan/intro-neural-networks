{
 "cells": [
  {
   "cell_type": "markdown",
   "metadata": {},
   "source": [
    "# Training Optimization\n",
    "\n",
    "## 1. Why Training Optimization Matters\n",
    "\n",
    "Optimizing the training process is crucial in overcoming challenges that can impact machine learning model performance. Issues like noisy data, suboptimal architecture, convergence problems, and computational efficiency can be effectively addressed through optimization techniques. These methods ensure the model adapts effectively to the data, converges to optimal parameter values, and performs efficiently. In essence, training optimization is pivotal for enhancing and fine-tuning machine learning models.\n",
    "\n",
    "## 2. Testing\n",
    "\n",
    "Testing is a critical step in evaluating the performance and accuracy of different models. This involves splitting the dataset into two parts: a training set and a test set. The objective is to assess how well a trained model performs on data it hasn't encountered during training.\n",
    "\n",
    "## 3. Overfitting and Underfitting\n",
    "\n",
    "[Watch Udacity video](https://www.youtube.com/watch?v=xj4PlXMsN-Y&t=25s)\n",
    "\n",
    "**Overfitting Explanation:**\n",
    "Overfitting occurs when a model excessively fits the training data, memorizing specific details or noise. This narrow focus hinders the model's ability to generalize to new and unseen data, resulting in poor performance.\n",
    "\n",
    "**Underfitting Explanation:**\n",
    "Underfitting arises when a model fails to capture enough complexity from the training data, leading to a simplistic representation. This simplistic approach struggles to adapt to underlying patterns and variability in both the training and test data, resulting in inaccurate predictions.\n"
   ]
  },
  {
   "cell_type": "code",
   "execution_count": 10,
   "metadata": {},
   "outputs": [
    {
     "data": {
      "text/html": [
       "<div style=\"text-align:center;\"><img src=\"images/overfit1.png\" width=\"600\" height=\"300\"></div>"
      ],
      "text/plain": [
       "<IPython.core.display.HTML object>"
      ]
     },
     "execution_count": 10,
     "metadata": {},
     "output_type": "execute_result"
    }
   ],
   "source": [
    "from IPython.display import HTML\n",
    "\n",
    "# Specify the file path\n",
    "image_path = \"images/overfit1.png\"\n",
    "\n",
    "# Set the desired width and height\n",
    "width = 600  # in pixels\n",
    "height = 300  # in pixels\n",
    "\n",
    "# Use HTML to display the image with the specified size and center alignment\n",
    "HTML(f'<div style=\"text-align:center;\"><img src=\"{image_path}\" width=\"{width}\" height=\"{height}\"></div>')\n"
   ]
  }
 ],
 "metadata": {
  "kernelspec": {
   "display_name": "Python 3",
   "language": "python",
   "name": "python3"
  },
  "language_info": {
   "codemirror_mode": {
    "name": "ipython",
    "version": 3
   },
   "file_extension": ".py",
   "mimetype": "text/x-python",
   "name": "python",
   "nbconvert_exporter": "python",
   "pygments_lexer": "ipython3",
   "version": "3.9.13"
  }
 },
 "nbformat": 4,
 "nbformat_minor": 2
}
