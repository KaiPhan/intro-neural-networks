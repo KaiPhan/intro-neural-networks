{
 "cells": [
  {
   "cell_type": "markdown",
   "metadata": {},
   "source": [
    "# Perceptron\n",
    "\n",
    "In a nutshell, a perceptron is a simple mathematical model of a biological neuron. It's the basic building block of artificial neural networks. The perceptron takes multiple binary inputs, applies weights to these inputs, sums them up, and then passes the result through an activation function to produce an output. The output is typically binary as well, representing a decision or classification.\n",
    "\n",
    "In a more formal sense:\n",
    "\n",
    "1. **Inputs (x):** The perceptron receives multiple binary inputs (0 or 1).\n",
    "2. **Weights (w):** Each input is multiplied by a weight, which can be adjusted during the learning process.\n",
    "3. **Summation:** The weighted inputs are summed up.\n",
    "4. **Activation Function:** The sum is then passed through an activation function (e.g., step function, sigmoid) to produce the output. The activation function introduces non-linearity to the model.\n",
    "5. **Output (y):** The final output is typically binary (0 or 1), representing the perceptron's decision.\n",
    "\n",
    "![Perceptron](assets\\perceptron1.png)\n",
    "\n",
    "[Watch the video about Perceptron](https://www.youtube.com/watch?v=hImSxZyRiOw)\n"
   ]
  },
  {
   "cell_type": "markdown",
   "metadata": {},
   "source": []
  }
 ],
 "metadata": {
  "language_info": {
   "name": "python"
  }
 },
 "nbformat": 4,
 "nbformat_minor": 2
}
