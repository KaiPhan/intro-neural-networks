{
 "cells": [
  {
   "cell_type": "markdown",
   "metadata": {},
   "source": [
    "# Local Minima  \n",
    "A local minimum in the context of optimization for machine learning models occurs when the algorithm finds a point in the parameter space where the loss function has a lower value compared to its immediate neighbors. However, this point is not necessarily the global minimum, which is the absolute lowest point in the entire parameter space."
   ]
  },
  {
   "cell_type": "code",
   "execution_count": 4,
   "metadata": {},
   "outputs": [
    {
     "data": {
      "text/html": [
       "<div style=\"text-align:center;\"><img src=\"images/local_min1.png\" width=\"800\" height=\"400\"></div>"
      ],
      "text/plain": [
       "<IPython.core.display.HTML object>"
      ]
     },
     "execution_count": 4,
     "metadata": {},
     "output_type": "execute_result"
    }
   ],
   "source": [
    "from IPython.display import HTML\n",
    "image_path = \"images/local_min1.png\"\n",
    "HTML(f'<div style=\"text-align:center;\"><img src=\"{image_path}\" width=\"{800}\" height=\"{400}\"></div>')\n"
   ]
  },
  {
   "cell_type": "markdown",
   "metadata": {},
   "source": [
    "# Random Restart\n",
    "To solve this problem, one simple solution is Random Restart which means we start from a few different random places and do gradient descent from all of them. This increases the probability of getting global minimum, or at least a pretty good local minimum."
   ]
  },
  {
   "cell_type": "code",
   "execution_count": 11,
   "metadata": {},
   "outputs": [
    {
     "data": {
      "text/html": [
       "<div style=\"text-align:center;\"><img src=\"images/random_restart1.png\" width=\"700\" height=\"350\"></div>"
      ],
      "text/plain": [
       "<IPython.core.display.HTML object>"
      ]
     },
     "execution_count": 11,
     "metadata": {},
     "output_type": "execute_result"
    }
   ],
   "source": [
    "image_path = \"images/random_restart1.png\"\n",
    "HTML(f'<div style=\"text-align:center;\"><img src=\"{image_path}\" width=\"{700}\" height=\"{350}\"></div>')"
   ]
  }
 ],
 "metadata": {
  "kernelspec": {
   "display_name": "Python 3",
   "language": "python",
   "name": "python3"
  },
  "language_info": {
   "codemirror_mode": {
    "name": "ipython",
    "version": 3
   },
   "file_extension": ".py",
   "mimetype": "text/x-python",
   "name": "python",
   "nbconvert_exporter": "python",
   "pygments_lexer": "ipython3",
   "version": "3.9.13"
  }
 },
 "nbformat": 4,
 "nbformat_minor": 2
}
