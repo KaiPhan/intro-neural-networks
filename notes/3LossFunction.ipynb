{
 "cells": [
  {
   "cell_type": "markdown",
   "metadata": {},
   "source": [
    "# Loss Function\n",
    "\n",
    "[Watch the source Udacity video](https://www.youtube.com/watch?v=YfUUunxWIJw&t=33s)\n",
    "\n",
    "In a nutshell, an error function, or loss function, quantifies the **difference** between *predicted* and *actual* values in a machine learning model. The goal is to **minimize this function** to improve the model’s accuracy.\n",
    "\n",
    "## Discrete and Continuous\n",
    "[Watch the source Udacity video](https://www.youtube.com/watch?v=jfKShxGAbok&t=138s)  \n",
    "\n",
    "<p align=\"center\"><img src=\"images/lossFunc1.png\" alt=\"Discrete and Continuous in Error Function\" width=\"600\">\n",
    "</p>\n",
    "\n",
    "The image illustrates the difference between discrete and continuous error functions. In a discrete error function, the steps are distinct and separate, like the flat steps on a pyramid. This can make it difficult for the model to determine the direction of the next step, as the error doesn’t change smoothly.\n",
    "\n",
    "On the other hand, a continuous error function, like the height of a mountain, changes smoothly. This allows the model to detect even small differences and adjust its parameters accordingly to minimize the error. This is generally preferred in machine learning as it provides a clearer path for optimization.\n",
    "\n",
    "So, the analogy of standing on a pyramid versus a mountain to represent discrete and continuous error functions is a good way to understand the concept. However, it’s important to note that the choice between a discrete or continuous error function depends on the specific problem and data at hand. Some problems may be better suited to a discrete approach, while others benefit from a continuous approach.\n"
   ]
  },
  {
   "cell_type": "markdown",
   "metadata": {},
   "source": [
    "# Quiz Question\n",
    "\n",
    "Which of the following conditions should be met in order to apply gradient descent? (Check all that apply.)\n",
    "\n",
    "- [ ] The error function should be discrete\n",
    "- [ ] The error function should contain only positive values\n",
    "- [x] The error function should be differentiable\n",
    "- [ ] The error function should be normalized\n",
    "- [x] The error function should be continuous\n"
   ]
  },
  {
   "cell_type": "markdown",
   "metadata": {},
   "source": []
  }
 ],
 "metadata": {
  "language_info": {
   "name": "python"
  }
 },
 "nbformat": 4,
 "nbformat_minor": 2
}
