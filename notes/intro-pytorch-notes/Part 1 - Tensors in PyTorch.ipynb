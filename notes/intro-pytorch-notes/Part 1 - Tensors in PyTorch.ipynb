{
 "cells": [
  {
   "cell_type": "markdown",
   "metadata": {},
   "source": [
    "# Key notes:\n",
    "- The number of hidden units a parameter of the network, often called a hyperparameter to differentiate it from the weights and biases parameters.  \n",
    "- Numpy type can be converted to Tensor and vice versa\n",
    "`torch.from_numpy()` and `[tensor_variable].numpy()`  \n",
    "- The memory is shared between the Numpy array and Torch tensor, so if you change the values in-place of one object, the other will change as well."
   ]
  },
  {
   "cell_type": "code",
   "execution_count": 1,
   "metadata": {},
   "outputs": [
    {
     "data": {
      "text/plain": [
       "array([[0.19888113, 0.72557158, 0.90036198],\n",
       "       [0.42424883, 0.27672152, 0.91733116],\n",
       "       [0.28047396, 0.9059148 , 0.81474844],\n",
       "       [0.47564918, 0.73300723, 0.09884922]])"
      ]
     },
     "execution_count": 1,
     "metadata": {},
     "output_type": "execute_result"
    }
   ],
   "source": [
    "import numpy as np\n",
    "a = np.random.rand(4,3)\n",
    "a"
   ]
  },
  {
   "cell_type": "code",
   "execution_count": 2,
   "metadata": {},
   "outputs": [
    {
     "data": {
      "text/plain": [
       "tensor([[0.1989, 0.7256, 0.9004],\n",
       "        [0.4242, 0.2767, 0.9173],\n",
       "        [0.2805, 0.9059, 0.8147],\n",
       "        [0.4756, 0.7330, 0.0988]], dtype=torch.float64)"
      ]
     },
     "execution_count": 2,
     "metadata": {},
     "output_type": "execute_result"
    }
   ],
   "source": [
    "import torch\n",
    "b = torch.from_numpy(a)\n",
    "b"
   ]
  },
  {
   "cell_type": "code",
   "execution_count": 3,
   "metadata": {},
   "outputs": [
    {
     "data": {
      "text/plain": [
       "array([[0.19888113, 0.72557158, 0.90036198],\n",
       "       [0.42424883, 0.27672152, 0.91733116],\n",
       "       [0.28047396, 0.9059148 , 0.81474844],\n",
       "       [0.47564918, 0.73300723, 0.09884922]])"
      ]
     },
     "execution_count": 3,
     "metadata": {},
     "output_type": "execute_result"
    }
   ],
   "source": [
    "b.numpy()"
   ]
  },
  {
   "cell_type": "code",
   "execution_count": 4,
   "metadata": {},
   "outputs": [
    {
     "data": {
      "text/plain": [
       "tensor([[0.3978, 1.4511, 1.8007],\n",
       "        [0.8485, 0.5534, 1.8347],\n",
       "        [0.5609, 1.8118, 1.6295],\n",
       "        [0.9513, 1.4660, 0.1977]], dtype=torch.float64)"
      ]
     },
     "execution_count": 4,
     "metadata": {},
     "output_type": "execute_result"
    }
   ],
   "source": [
    "# Multiply PyTorch Tensor by 2, in place\n",
    "b.mul_(2)"
   ]
  },
  {
   "cell_type": "code",
   "execution_count": 5,
   "metadata": {},
   "outputs": [
    {
     "data": {
      "text/plain": [
       "array([[0.39776227, 1.45114316, 1.80072395],\n",
       "       [0.84849766, 0.55344304, 1.83466231],\n",
       "       [0.56094792, 1.8118296 , 1.62949688],\n",
       "       [0.95129836, 1.46601445, 0.19769843]])"
      ]
     },
     "execution_count": 5,
     "metadata": {},
     "output_type": "execute_result"
    }
   ],
   "source": [
    "# Numpy array matches new values from Tensor\n",
    "a"
   ]
  }
 ],
 "metadata": {
  "kernelspec": {
   "display_name": "Python 3 (ipykernel)",
   "language": "python",
   "name": "python3"
  },
  "language_info": {
   "codemirror_mode": {
    "name": "ipython",
    "version": 3
   },
   "file_extension": ".py",
   "mimetype": "text/x-python",
   "name": "python",
   "nbconvert_exporter": "python",
   "pygments_lexer": "ipython3",
   "version": "3.9.13"
  }
 },
 "nbformat": 4,
 "nbformat_minor": 2
}
