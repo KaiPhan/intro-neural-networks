{
 "cells": [
  {
   "cell_type": "code",
   "execution_count": null,
   "id": "919496f6",
   "metadata": {},
   "outputs": [],
   "source": [
    "train_transforms = transforms.Compose([transforms.RandomRotation(30), \n",
    "                                       ## Rotates the image by a random angle between -30 and +30 degrees.\n",
    "                                       transforms.RandomResizedCrop(224), \n",
    "                                       ## Crops the image to a random size and aspect ratio, then resizes it to 224x224 pixels.\n",
    "                                       transforms.RandomHorizontalFlip(),\n",
    "                                       ## Flips the image horizontally with a 50% probability.\n",
    "                                       transforms.ToTensor(),\n",
    "                                       ## Converts the image from a PIL Image format to a PyTorch tensor.\n",
    "                                       transforms.Normalize([0.5, 0.5, 0.5], \n",
    "                                                            [0.5, 0.5, 0.5])]\n",
    "                                     ##Normalizes the image tensor with a mean and standard deviation of 0.5 for all three color channels (RGB). )\n",
    "\n",
    "\n",
    "test_transforms = transforms.Compose([transforms.Resize(255), \n",
    "                                      ##Resizes the shortest side of the image to 255 pixels while maintaining the aspect ratio.\n",
    "                                      transforms.CenterCrop(224),\n",
    "                                      ##Crops the center of the image to 224x224 pixels.\n",
    "                                      transforms.ToTensor()])"
   ]
  },
  {
   "cell_type": "markdown",
   "id": "a651d9e9",
   "metadata": {},
   "source": [
    "`transforms.ColorJitter(brightness=0.2, contrast=0.2, saturation=0.2, hue=0.1)`: Randomly changes the brightness, contrast, saturation, and hue of an image.  \n",
    "`transforms.RandomVerticalFlip()`: Flips the image vertically with a 50% probability.  \n",
    "`transforms.RandomGrayscale()`: Converts the image to grayscale with a 50% probability.  \n",
    "`transforms.RandomCrop(size, padding=None, pad_if_needed=False, fill=0, padding_mode='constant')`: Crops the image at a random location.  \n",
    "`transforms.RandomAffine(degrees, translate=None, scale=None, shear=None, resample=False, fillcolor=0)`: Applies a random affine transformation of the image keeping center invariant.\n",
    "transforms.GaussianBlur(kernel_size, sigma=(0.1, 2.0)): Blurs image with randomly chosen Gaussian blur."
   ]
  },
  {
   "cell_type": "code",
   "execution_count": null,
   "id": "dee39fc9",
   "metadata": {},
   "outputs": [],
   "source": []
  }
 ],
 "metadata": {
  "kernelspec": {
   "display_name": "Python 3 (ipykernel)",
   "language": "python",
   "name": "python3"
  },
  "language_info": {
   "codemirror_mode": {
    "name": "ipython",
    "version": 3
   },
   "file_extension": ".py",
   "mimetype": "text/x-python",
   "name": "python",
   "nbconvert_exporter": "python",
   "pygments_lexer": "ipython3",
   "version": "3.6.13"
  }
 },
 "nbformat": 4,
 "nbformat_minor": 5
}
