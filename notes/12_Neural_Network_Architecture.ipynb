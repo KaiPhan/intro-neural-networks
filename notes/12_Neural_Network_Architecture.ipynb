{
 "cells": [
  {
   "cell_type": "markdown",
   "metadata": {},
   "source": [
    "# Neural Network Architecture\n",
    "\n",
    "Intuitively, neural networks aim to model complex, non-linear relationships. This is achieved by combining multiple linear functions and applying a non-linear activation function, such as the sigmoid function.\n",
    "\n",
    "In essence, a neural network can be viewed as a multi-layer perceptron (MLP), where interconnected nodes process information through weighted sums and activation functions. Increasing the number of nodes in the input, hidden, and output layers, as well as adding more layers, enhances the network's ability to capture intricate patterns in data.\n",
    "\n",
    "For <span style=\"background-color: #FFFF99; color: #000000; font-weight: bold;\">multi-class classification</span>, the output layer can be expanded with nodes representing different classes. The probabilities for each class are obtained by applying the softmax function to the output scores, providing a normalized distribution of class likelihoods.\n",
    "\n",
    "[Watch the video about Multi-class classification](https://www.youtube.com/watch?v=uNTtvxwfox0)\n"
   ]
  }
 ],
 "metadata": {
  "language_info": {
   "name": "python"
  }
 },
 "nbformat": 4,
 "nbformat_minor": 2
}
