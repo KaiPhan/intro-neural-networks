{
 "cells": [
  {
   "cell_type": "markdown",
   "metadata": {},
   "source": [
    "# Maximum Likelihood  \n",
    "Which model is better?  \n",
    "A. Probability of a person got flu is 55%  \n",
    "B. Probability of a person got flu is 80%  \n",
    "\n",
    "It's hard to say, but this case is only 1 person, how about ten or hundred or thousand people in community?  \n",
    "The best model would more likely be the one that the model's probabilities should reflect the observed outcomes as accurately as possible.  \n",
    "(which means higher probabilities to the events that happened actually)\n",
    "\n",
    "## **Maximum Likelihood Estimation (MLE)**. \n",
    "\n",
    "In the context of a probabilistic model, MLE is a method of estimating the parameters of the model that maximizes the likelihood function. The likelihood function measures the goodness of fit of a statistical model to the data.\n",
    "\n",
    "In above example, if we're trying to model the occurrence of flu in a population, we would choose the model that gives the highest probability to the observed data. If 55% of people in our sample have the flu, then a model that predicts a 55% chance of flu would be a better fit than one that predicts an 80% chance. However, if 80% of people in our sample have the flu, then the model predicting an 80% chance would be a better fit.\n",
    "\n",
    "**It's important to note that MLE doesn't tell us the probability of the model being correct**. It simply tells us **which model is the best fit for our data** given the models you are considering. Also, MLE assumes our sample is representative of the population. If our sample is biased, our estimates could be off. \n",
    "\n",
    "**(Take away)** So, in summary, the best model is the one that most accurately represents the observed data.  \n",
    "The size of the sample just affects the precision of your estimates.\n"
   ]
  },
  {
   "cell_type": "markdown",
   "metadata": {},
   "source": [
    "[Watch the source Udacity video](https://www.youtube.com/watch?v=njq6bYrPqSU&t=6s)"
   ]
  }
 ],
 "metadata": {
  "language_info": {
   "name": "python"
  }
 },
 "nbformat": 4,
 "nbformat_minor": 2
}
